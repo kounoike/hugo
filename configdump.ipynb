{
 "cells": [
  {
   "cell_type": "code",
   "execution_count": 1,
   "metadata": {
    "collapsed": true
   },
   "outputs": [],
   "source": [
    "import yaml\n",
    "import toml\n",
    "import json"
   ]
  },
  {
   "cell_type": "code",
   "execution_count": 13,
   "metadata": {
    "collapsed": false
   },
   "outputs": [
    {
     "name": "stdout",
     "output_type": "stream",
     "text": [
      "{\"languagecode\": \"ja-jp\", \"author\": {\"twitter\": \"ko_noike\", \"github\": \"kounoike\", \"name\": \"KOUNOIKE Yuusuke\", \"email\": \"kounoike.yuusuke@gmail.com\"}, \"MetaDataFormat\": \"yaml\", \"menu\": {\"main\": [{\"url\": \"/posts\", \"name\": \"Blog\"}, {\"url\": \"/links\", \"name\": \"Pages\"}], \"social\": [{\"pre\": \"<i class='fa fa-twitter'></i>\", \"url\": \"http://www.twitter.com/ko_noike\"}, {\"pre\": \"<i class='fa fa-github'></i>\", \"url\": \"https://github.com/kounoike\"}]}, \"Title\": \"Kounoike's GitHub Pages\", \"BaseURL\": \"http://kounoike.github.io/\", \"theme\": \"hugo-redlounge\", \"blackfriday\": {\"plainIdAnchors\": true}, \"params\": {\"highlight_theme\": \"solarized_light\", \"sidebartitle\": \"\\u3053\\u30fc\\u306e\\u3044\\u3051\\u306eGitHub Page\", \"notoc\": false, \"Description\": \"GitHub Page\\u304c\\u3057\\u305f\\u3044\\uff01\", \"authortwitter\": \"ko_noike\"}, \"permalinks\": {\"post\": \"/:year/:month/:day/:title\"}}\n",
      "--------------------------------------------------------------------------------\n",
      "languagecode = \"ja-jp\"\n",
      "MetaDataFormat = \"yaml\"\n",
      "Title = \"Kounoike's GitHub Pages\"\n",
      "BaseURL = \"http://kounoike.github.io/\"\n",
      "theme = \"hugo-redlounge\"\n",
      "[permalinks]\n",
      "post = \"/:year/:month/:day/:title\"\n",
      "[menu]\n",
      "[[menu.main]]\n",
      "url = \"/posts\"\n",
      "name = \"Blog\"\n",
      "[[menu.main]]\n",
      "url = \"/links\"\n",
      "name = \"Pages\"\n",
      "[[menu.social]]\n",
      "pre = \"<i class='fa fa-twitter'></i>\"\n",
      "url = \"http://www.twitter.com/ko_noike\"\n",
      "[[menu.social]]\n",
      "pre = \"<i class='fa fa-github'></i>\"\n",
      "url = \"https://github.com/kounoike\"\n",
      "[blackfriday]\n",
      "plainIdAnchors = true\n",
      "[params]\n",
      "highlight_theme = \"solarized_light\"\n",
      "sidebartitle = \"\\u3053\\u30fc\\u306e\\u3044\\u3051\\u306eGitHub Page\"\n",
      "notoc = false\n",
      "Description = \"GitHub Page\\u304c\\u3057\\u305f\\u3044\\uff01\"\n",
      "authortwitter = \"ko_noike\"\n",
      "[author]\n",
      "twitter = \"ko_noike\"\n",
      "github = \"kounoike\"\n",
      "name = \"KOUNOIKE Yuusuke\"\n",
      "email = \"kounoike.yuusuke@gmail.com\"\n",
      "\n"
     ]
    }
   ],
   "source": [
    "with open(\"config.yaml\") as f:\n",
    "    data = yaml.load(f)\n",
    "    print json.dumps(data)\n",
    "    print \"-\" * 80\n",
    "    print toml.dumps(data)\n",
    "    toml.dump(data, open(\"config.toml\", \"w\"))"
   ]
  },
  {
   "cell_type": "code",
   "execution_count": 7,
   "metadata": {
    "collapsed": false
   },
   "outputs": [
    {
     "data": {
      "text/plain": [
       "[{'pre': \"<i class='fa fa-twitter'></i>\",\n",
       "  'url': 'http://www.twitter.com/ko_noike'},\n",
       " {'pre': \"<i class='fa fa-github'></i>\", 'url': 'https://github.com/kounoike'}]"
      ]
     },
     "execution_count": 7,
     "metadata": {},
     "output_type": "execute_result"
    }
   ],
   "source": [
    "data[\"menu\"][\"social\"]"
   ]
  },
  {
   "cell_type": "code",
   "execution_count": 8,
   "metadata": {
    "collapsed": false
   },
   "outputs": [
    {
     "data": {
      "text/plain": [
       "[{'name': 'Blog', 'url': '/posts'}, {'name': 'Pages', 'url': '/links'}]"
      ]
     },
     "execution_count": 8,
     "metadata": {},
     "output_type": "execute_result"
    }
   ],
   "source": [
    "data[\"menu\"][\"main\"]"
   ]
  },
  {
   "cell_type": "code",
   "execution_count": 10,
   "metadata": {
    "collapsed": false
   },
   "outputs": [
    {
     "data": {
      "text/plain": [
       "2"
      ]
     },
     "execution_count": 10,
     "metadata": {},
     "output_type": "execute_result"
    }
   ],
   "source": [
    "len(data[\"menu\"][\"social\"])"
   ]
  },
  {
   "cell_type": "code",
   "execution_count": null,
   "metadata": {
    "collapsed": true
   },
   "outputs": [],
   "source": []
  }
 ],
 "metadata": {
  "kernelspec": {
   "display_name": "Python 2",
   "language": "python",
   "name": "python2"
  },
  "language_info": {
   "codemirror_mode": {
    "name": "ipython",
    "version": 2
   },
   "file_extension": ".py",
   "mimetype": "text/x-python",
   "name": "python",
   "nbconvert_exporter": "python",
   "pygments_lexer": "ipython2",
   "version": "2.7.10"
  }
 },
 "nbformat": 4,
 "nbformat_minor": 0
}
